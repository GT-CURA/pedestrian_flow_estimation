{
 "cells": [
  {
   "cell_type": "code",
   "execution_count": 9,
   "metadata": {},
   "outputs": [],
   "source": [
    "import pandas as pd\n",
    "from sklearn.model_selection import train_test_split\n",
    "from sklearn.ensemble import RandomForestRegressor\n",
    "from sklearn.metrics import mean_absolute_error, mean_squared_error\n",
    "from datetime import datetime\n",
    "from sklearn.impute import SimpleImputer\n",
    "\n",
    "import os\n",
    "import pandas as pd\n",
    "\n"
   ]
  },
  {
   "cell_type": "code",
   "execution_count": 13,
   "metadata": {},
   "outputs": [
    {
     "name": "stdout",
     "output_type": "stream",
     "text": [
      "Index(['recorder1_9m', 'recorder2_9m', 'B_to_A', 'Total_A_to_B',\n",
      "       'Total_B_to_A', 'recorder1_9m_b', 'recorder2_9m_b', 'recorder3_9m_b',\n",
      "       'recorder1_9m_c', 'recorder2_9m_c', 'hour', 'minute'],\n",
      "      dtype='object')\n",
      "MAE: 0.03082738314033996, RMSE: 0.13651854642759392\n"
     ]
    }
   ],
   "source": [
    "# Load data\n",
    "output_folder_path = f\"/home/schivilkar/dev/final_video_processing/DataSummary/Path1/Path1_All_Sessions.csv\"\n",
    "\n",
    "df = pd.read_csv(output_folder_path)\n",
    "\n",
    "# Drop unnecessary columns\n",
    "#df = df.drop(columns=['Total_A_to_B', 'Total_B_to_A'])\n",
    "\n",
    "# Feature engineering from timestamp\n",
    "df['timestamp'] = pd.to_datetime(df['timestamp'])\n",
    "df['hour'] = df['timestamp'].dt.hour\n",
    "df['minute'] = df['timestamp'].dt.minute\n",
    "df = df.drop(columns=['timestamp'])\n",
    "\n",
    "imputer = SimpleImputer(strategy='constant', fill_value=0)\n",
    "df[['recorder1_9m_b', 'recorder2_9m_b', 'recorder3_9m_b', 'recorder1_9m_c', 'recorder2_9m_c']] = imputer.fit_transform(\n",
    "    df[['recorder1_9m_b', 'recorder2_9m_b', 'recorder3_9m_b', 'recorder1_9m_c', 'recorder2_9m_c']]\n",
    ")\n",
    "\n",
    "# Define features and target\n",
    "X = df.drop(columns=['A_to_B'])\n",
    "print(X.columns)\n",
    "y = df['A_to_B']\n",
    "\n",
    "# Train-test split\n",
    "X_train, X_test, y_train, y_test = train_test_split(X, y, test_size=0.2, random_state=42)\n",
    "\n",
    "# Model\n",
    "model = RandomForestRegressor(n_estimators=100, random_state=42)\n",
    "model.fit(X_train, y_train)\n",
    "\n",
    "# Prediction\n",
    "y_pred = model.predict(X_test)\n",
    "\n",
    "# Evaluation\n",
    "mae = mean_absolute_error(y_test, y_pred)\n",
    "rmse = mean_squared_error(y_test, y_pred, squared=False)\n",
    "print(f\"MAE: {mae}, RMSE: {rmse}\")"
   ]
  },
  {
   "cell_type": "code",
   "execution_count": 15,
   "metadata": {},
   "outputs": [
    {
     "data": {
      "text/plain": [
       "A_to_B\n",
       "0    574719\n",
       "1      7497\n",
       "2       572\n",
       "3        37\n",
       "4         4\n",
       "Name: count, dtype: int64"
      ]
     },
     "execution_count": 15,
     "metadata": {},
     "output_type": "execute_result"
    }
   ],
   "source": [
    "df['A_to_B'].value_counts()\n"
   ]
  },
  {
   "cell_type": "code",
   "execution_count": null,
   "metadata": {},
   "outputs": [],
   "source": []
  }
 ],
 "metadata": {
  "kernelspec": {
   "display_name": "polygon-env",
   "language": "python",
   "name": "python3"
  },
  "language_info": {
   "codemirror_mode": {
    "name": "ipython",
    "version": 3
   },
   "file_extension": ".py",
   "mimetype": "text/x-python",
   "name": "python",
   "nbconvert_exporter": "python",
   "pygments_lexer": "ipython3",
   "version": "3.8.20"
  }
 },
 "nbformat": 4,
 "nbformat_minor": 2
}
